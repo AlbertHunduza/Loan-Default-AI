{
 "cells": [
  {
   "cell_type": "markdown",
   "metadata": {},
   "source": [
    "### 1) Import Necessary Libraries"
   ]
  },
  {
   "cell_type": "code",
   "execution_count": 1,
   "metadata": {},
   "outputs": [],
   "source": [
    "import torch\n",
    "import torch.nn as nn\n",
    "import torch.optim as optim\n",
    "import torch.utils.data as data\n",
    "from torch.utils.tensorboard import SummaryWriter\n",
    "import pandas as pd\n",
    "from sklearn.model_selection import train_test_split\n",
    "from sklearn.preprocessing import LabelEncoder"
   ]
  },
  {
   "cell_type": "markdown",
   "metadata": {},
   "source": [
    "### Loading and Preparing Dataset"
   ]
  },
  {
   "cell_type": "code",
   "execution_count": 2,
   "metadata": {},
   "outputs": [],
   "source": [
    "# import dataset\n",
    "loan_data = pd.read_csv('preprocessed_loans50k.csv')\n",
    "\n",
    "# Convert 'status' to numerical labels\n",
    "status_mapping = {\n",
    "    'Safe': 0,\n",
    "    'Risky': 1\n",
    "}\n",
    "\n",
    "loan_data['status'] = loan_data['status'].map(status_mapping)\n",
    "\n",
    "# Separate features and labels\n",
    "X = loan_data.drop('status', axis=1)\n",
    "y = loan_data['status']\n",
    "\n",
    "# Use LabelEncoder to encode 'Safe' as 0 and 'Risky' as 1\n",
    "label_encoder = LabelEncoder()\n",
    "y = label_encoder.fit_transform(y)\n",
    "\n",
    "# Split the data into training and testing sets\n",
    "X_train, X_test, y_train, y_test = train_test_split(X, y, test_size=0.2, random_state=42)\n",
    "\n",
    "# Convert data to PyTorch tensors\n",
    "X_train = torch.tensor(X_train.values, dtype=torch.float32)\n",
    "X_test = torch.tensor(X_test.values, dtype=torch.float32)\n",
    "y_train = torch.tensor(y_train, dtype=torch.long)\n",
    "y_test = torch.tensor(y_test, dtype=torch.long)\n",
    "\n",
    "# Create DataLoader for training and testing data\n",
    "train_dataset = data.TensorDataset(X_train, y_train)\n",
    "test_dataset = data.TensorDataset(X_test, y_test)\n",
    "\n",
    "train_loader = data.DataLoader(train_dataset, batch_size=64, shuffle=True)\n",
    "test_loader = data.DataLoader(test_dataset, batch_size=64, shuffle=False)\n"
   ]
  },
  {
   "cell_type": "markdown",
   "metadata": {},
   "source": [
    "### 3) Defining Binary Classification Model"
   ]
  },
  {
   "cell_type": "markdown",
   "metadata": {},
   "source": [
    "class LoanBinaryModel(nn.Module):\n",
    "    def __init__(self, input_dim, hidden_dim):\n",
    "        super(LoanBinaryModel, self).__init__()\n",
    "        self.fc1 = nn.Linear(input_dim, hidden_dim)\n",
    "        self.relu = nn.ReLU()\n",
    "        self.fc2 = nn.Linear(hidden_dim, 1)\n",
    "        self.sigmoid = nn.Sigmoid()\n",
    "\n",
    "    def forward(self, x):\n",
    "        out = self.fc1(x)\n",
    "        out = self.relu(out)\n",
    "        out = self.fc2(out)\n",
    "        out = self.sigmoid(out)\n",
    "        return out"
   ]
  },
  {
   "cell_type": "code",
   "execution_count": 3,
   "metadata": {},
   "outputs": [],
   "source": [
    "class LoanBinaryModel(nn.Module):\n",
    "    def __init__(self, input_dim, hidden_dim):\n",
    "        super(LoanBinaryModel, self).__init__()\n",
    "        self.fc1 = nn.Linear(input_dim, hidden_dim)\n",
    "        self.relu = nn.ReLU()\n",
    "        self.fc2 = nn.Linear(hidden_dim, hidden_dim)\n",
    "        self.fc3 = nn.Linear(hidden_dim, hidden_dim)\n",
    "        self.fc4 = nn.Linear(hidden_dim, 1)\n",
    "        self.sigmoid = nn.Sigmoid()\n",
    "\n",
    "    def forward(self, x):\n",
    "        out = self.fc1(x)\n",
    "        out = self.relu(out)\n",
    "        out = self.fc2(out)\n",
    "        out = self.relu(out)\n",
    "        out = self.fc3(out)\n",
    "        out = self.relu(out)\n",
    "        out = self.fc4(out)\n",
    "        out = self.sigmoid(out)\n",
    "        return out\n"
   ]
  },
  {
   "cell_type": "markdown",
   "metadata": {},
   "source": [
    "### 4) Training Binary Classification Model"
   ]
  },
  {
   "cell_type": "code",
   "execution_count": 4,
   "metadata": {},
   "outputs": [
    {
     "name": "stdout",
     "output_type": "stream",
     "text": [
      "Epoch [1/100], Loss: 16.4306, Accuracy: 83.12%\n",
      "Epoch [2/100], Loss: 16.4301, Accuracy: 83.12%\n",
      "Epoch [3/100], Loss: 16.4304, Accuracy: 83.12%\n",
      "Epoch [4/100], Loss: 16.4297, Accuracy: 83.12%\n",
      "Epoch [5/100], Loss: 16.4292, Accuracy: 83.12%\n",
      "Epoch [6/100], Loss: 16.4286, Accuracy: 83.12%\n",
      "Epoch [7/100], Loss: 16.4292, Accuracy: 83.12%\n",
      "Epoch [8/100], Loss: 16.4299, Accuracy: 83.12%\n",
      "Epoch [9/100], Loss: 16.4299, Accuracy: 83.12%\n",
      "Epoch [10/100], Loss: 16.4306, Accuracy: 83.12%\n",
      "Epoch [11/100], Loss: 16.4308, Accuracy: 83.12%\n",
      "Epoch [12/100], Loss: 16.4304, Accuracy: 83.12%\n",
      "Epoch [13/100], Loss: 16.4308, Accuracy: 83.12%\n",
      "Epoch [14/100], Loss: 16.4297, Accuracy: 83.12%\n",
      "Epoch [15/100], Loss: 16.4304, Accuracy: 83.12%\n",
      "Epoch [16/100], Loss: 16.4301, Accuracy: 83.12%\n",
      "Epoch [17/100], Loss: 16.4301, Accuracy: 83.12%\n",
      "Epoch [18/100], Loss: 16.4299, Accuracy: 83.12%\n",
      "Epoch [19/100], Loss: 16.4301, Accuracy: 83.12%\n",
      "Epoch [20/100], Loss: 16.4304, Accuracy: 83.12%\n",
      "Epoch [21/100], Loss: 16.4292, Accuracy: 83.12%\n",
      "Epoch [22/100], Loss: 16.4299, Accuracy: 83.12%\n",
      "Epoch [23/100], Loss: 16.4306, Accuracy: 83.12%\n",
      "Epoch [24/100], Loss: 16.4297, Accuracy: 83.12%\n"
     ]
    },
    {
     "ename": "KeyboardInterrupt",
     "evalue": "",
     "output_type": "error",
     "traceback": [
      "\u001b[1;31m---------------------------------------------------------------------------\u001b[0m",
      "\u001b[1;31mKeyboardInterrupt\u001b[0m                         Traceback (most recent call last)",
      "Cell \u001b[1;32mIn[4], line 60\u001b[0m\n\u001b[0;32m     58\u001b[0m learning_rate \u001b[39m=\u001b[39m \u001b[39m0.00001\u001b[39m\n\u001b[0;32m     59\u001b[0m target_accuracy \u001b[39m=\u001b[39m \u001b[39m95.0\u001b[39m  \u001b[39m# Stop training when the accuracy reaches 95%\u001b[39;00m\n\u001b[1;32m---> 60\u001b[0m train_binary_model(model, train_loader, test_loader, num_epochs, learning_rate, target_accuracy, device)\n",
      "Cell \u001b[1;32mIn[4], line 18\u001b[0m, in \u001b[0;36mtrain_binary_model\u001b[1;34m(model, train_loader, test_loader, num_epochs, learning_rate, target_accuracy, device)\u001b[0m\n\u001b[0;32m     16\u001b[0m     loss \u001b[39m=\u001b[39m criterion(outputs, labels\u001b[39m.\u001b[39mfloat())\n\u001b[0;32m     17\u001b[0m     loss\u001b[39m.\u001b[39mbackward()\n\u001b[1;32m---> 18\u001b[0m     optimizer\u001b[39m.\u001b[39;49mstep()\n\u001b[0;32m     20\u001b[0m     total_loss \u001b[39m+\u001b[39m\u001b[39m=\u001b[39m loss\u001b[39m.\u001b[39mitem()\n\u001b[0;32m     22\u001b[0m average_loss \u001b[39m=\u001b[39m total_loss \u001b[39m/\u001b[39m \u001b[39mlen\u001b[39m(train_loader)\n",
      "File \u001b[1;32mc:\\Users\\Albert\\AppData\\Local\\Programs\\Python\\Python311\\Lib\\site-packages\\torch\\optim\\optimizer.py:280\u001b[0m, in \u001b[0;36mOptimizer.profile_hook_step.<locals>.wrapper\u001b[1;34m(*args, **kwargs)\u001b[0m\n\u001b[0;32m    276\u001b[0m         \u001b[39melse\u001b[39;00m:\n\u001b[0;32m    277\u001b[0m             \u001b[39mraise\u001b[39;00m \u001b[39mRuntimeError\u001b[39;00m(\u001b[39mf\u001b[39m\u001b[39m\"\u001b[39m\u001b[39m{\u001b[39;00mfunc\u001b[39m}\u001b[39;00m\u001b[39m must return None or a tuple of (new_args, new_kwargs),\u001b[39m\u001b[39m\"\u001b[39m\n\u001b[0;32m    278\u001b[0m                                \u001b[39mf\u001b[39m\u001b[39m\"\u001b[39m\u001b[39mbut got \u001b[39m\u001b[39m{\u001b[39;00mresult\u001b[39m}\u001b[39;00m\u001b[39m.\u001b[39m\u001b[39m\"\u001b[39m)\n\u001b[1;32m--> 280\u001b[0m out \u001b[39m=\u001b[39m func(\u001b[39m*\u001b[39;49margs, \u001b[39m*\u001b[39;49m\u001b[39m*\u001b[39;49mkwargs)\n\u001b[0;32m    281\u001b[0m \u001b[39mself\u001b[39m\u001b[39m.\u001b[39m_optimizer_step_code()\n\u001b[0;32m    283\u001b[0m \u001b[39m# call optimizer step post hooks\u001b[39;00m\n",
      "File \u001b[1;32mc:\\Users\\Albert\\AppData\\Local\\Programs\\Python\\Python311\\Lib\\site-packages\\torch\\optim\\optimizer.py:33\u001b[0m, in \u001b[0;36m_use_grad_for_differentiable.<locals>._use_grad\u001b[1;34m(self, *args, **kwargs)\u001b[0m\n\u001b[0;32m     31\u001b[0m \u001b[39mtry\u001b[39;00m:\n\u001b[0;32m     32\u001b[0m     torch\u001b[39m.\u001b[39mset_grad_enabled(\u001b[39mself\u001b[39m\u001b[39m.\u001b[39mdefaults[\u001b[39m'\u001b[39m\u001b[39mdifferentiable\u001b[39m\u001b[39m'\u001b[39m])\n\u001b[1;32m---> 33\u001b[0m     ret \u001b[39m=\u001b[39m func(\u001b[39mself\u001b[39;49m, \u001b[39m*\u001b[39;49margs, \u001b[39m*\u001b[39;49m\u001b[39m*\u001b[39;49mkwargs)\n\u001b[0;32m     34\u001b[0m \u001b[39mfinally\u001b[39;00m:\n\u001b[0;32m     35\u001b[0m     torch\u001b[39m.\u001b[39mset_grad_enabled(prev_grad)\n",
      "File \u001b[1;32mc:\\Users\\Albert\\AppData\\Local\\Programs\\Python\\Python311\\Lib\\site-packages\\torch\\optim\\adadelta.py:108\u001b[0m, in \u001b[0;36mAdadelta.step\u001b[1;34m(self, closure)\u001b[0m\n\u001b[0;32m     96\u001b[0m     lr, rho, eps, weight_decay, foreach, maximize, differentiable \u001b[39m=\u001b[39m (\n\u001b[0;32m     97\u001b[0m         group[\u001b[39m\"\u001b[39m\u001b[39mlr\u001b[39m\u001b[39m\"\u001b[39m],\n\u001b[0;32m     98\u001b[0m         group[\u001b[39m\"\u001b[39m\u001b[39mrho\u001b[39m\u001b[39m\"\u001b[39m],\n\u001b[1;32m   (...)\u001b[0m\n\u001b[0;32m    103\u001b[0m         group[\u001b[39m\"\u001b[39m\u001b[39mdifferentiable\u001b[39m\u001b[39m\"\u001b[39m],\n\u001b[0;32m    104\u001b[0m     )\n\u001b[0;32m    106\u001b[0m     \u001b[39mself\u001b[39m\u001b[39m.\u001b[39m_init_group(group, params_with_grad, grads, square_avgs, acc_deltas)\n\u001b[1;32m--> 108\u001b[0m     adadelta(\n\u001b[0;32m    109\u001b[0m         params_with_grad,\n\u001b[0;32m    110\u001b[0m         grads,\n\u001b[0;32m    111\u001b[0m         square_avgs,\n\u001b[0;32m    112\u001b[0m         acc_deltas,\n\u001b[0;32m    113\u001b[0m         lr\u001b[39m=\u001b[39;49mlr,\n\u001b[0;32m    114\u001b[0m         rho\u001b[39m=\u001b[39;49mrho,\n\u001b[0;32m    115\u001b[0m         eps\u001b[39m=\u001b[39;49meps,\n\u001b[0;32m    116\u001b[0m         weight_decay\u001b[39m=\u001b[39;49mweight_decay,\n\u001b[0;32m    117\u001b[0m         foreach\u001b[39m=\u001b[39;49mforeach,\n\u001b[0;32m    118\u001b[0m         maximize\u001b[39m=\u001b[39;49mmaximize,\n\u001b[0;32m    119\u001b[0m         differentiable\u001b[39m=\u001b[39;49mdifferentiable,\n\u001b[0;32m    120\u001b[0m     )\n\u001b[0;32m    122\u001b[0m \u001b[39mreturn\u001b[39;00m loss\n",
      "File \u001b[1;32mc:\\Users\\Albert\\AppData\\Local\\Programs\\Python\\Python311\\Lib\\site-packages\\torch\\optim\\adadelta.py:206\u001b[0m, in \u001b[0;36madadelta\u001b[1;34m(params, grads, square_avgs, acc_deltas, foreach, differentiable, lr, rho, eps, weight_decay, maximize)\u001b[0m\n\u001b[0;32m    203\u001b[0m \u001b[39melse\u001b[39;00m:\n\u001b[0;32m    204\u001b[0m     func \u001b[39m=\u001b[39m _single_tensor_adadelta\n\u001b[1;32m--> 206\u001b[0m func(\n\u001b[0;32m    207\u001b[0m     params,\n\u001b[0;32m    208\u001b[0m     grads,\n\u001b[0;32m    209\u001b[0m     square_avgs,\n\u001b[0;32m    210\u001b[0m     acc_deltas,\n\u001b[0;32m    211\u001b[0m     lr\u001b[39m=\u001b[39;49mlr,\n\u001b[0;32m    212\u001b[0m     rho\u001b[39m=\u001b[39;49mrho,\n\u001b[0;32m    213\u001b[0m     eps\u001b[39m=\u001b[39;49meps,\n\u001b[0;32m    214\u001b[0m     weight_decay\u001b[39m=\u001b[39;49mweight_decay,\n\u001b[0;32m    215\u001b[0m     maximize\u001b[39m=\u001b[39;49mmaximize,\n\u001b[0;32m    216\u001b[0m     differentiable\u001b[39m=\u001b[39;49mdifferentiable,\n\u001b[0;32m    217\u001b[0m )\n",
      "File \u001b[1;32mc:\\Users\\Albert\\AppData\\Local\\Programs\\Python\\Python311\\Lib\\site-packages\\torch\\optim\\adadelta.py:290\u001b[0m, in \u001b[0;36m_multi_tensor_adadelta\u001b[1;34m(params, grads, square_avgs, acc_deltas, lr, weight_decay, rho, eps, maximize, differentiable)\u001b[0m\n\u001b[0;32m    287\u001b[0m torch\u001b[39m.\u001b[39m_foreach_mul_(device_square_avgs, rho)\n\u001b[0;32m    288\u001b[0m torch\u001b[39m.\u001b[39m_foreach_addcmul_(device_square_avgs, device_grads, device_grads, value\u001b[39m=\u001b[39m\u001b[39m1\u001b[39m \u001b[39m-\u001b[39m rho)\n\u001b[1;32m--> 290\u001b[0m std \u001b[39m=\u001b[39m torch\u001b[39m.\u001b[39;49m_foreach_add(device_square_avgs, eps)\n\u001b[0;32m    291\u001b[0m torch\u001b[39m.\u001b[39m_foreach_sqrt_(std)\n\u001b[0;32m    293\u001b[0m deltas \u001b[39m=\u001b[39m torch\u001b[39m.\u001b[39m_foreach_add(device_acc_deltas, eps)\n",
      "\u001b[1;31mKeyboardInterrupt\u001b[0m: "
     ]
    }
   ],
   "source": [
    "def train_binary_model(model, train_loader, test_loader, num_epochs, learning_rate, target_accuracy, device):\n",
    "    model.to(device)\n",
    "    criterion = nn.BCELoss()\n",
    "    optimizer = optim.Adadelta(model.parameters(), lr=learning_rate)\n",
    "    writer = SummaryWriter()\n",
    "\n",
    "    total_steps = len(train_loader)\n",
    "    for epoch in range(num_epochs):\n",
    "        model.train()\n",
    "        total_loss = 0\n",
    "        for i, (inputs, labels) in enumerate(train_loader):\n",
    "            inputs, labels = inputs.to(device), labels.to(device).view(-1, 1)\n",
    "\n",
    "            optimizer.zero_grad()\n",
    "            outputs = model(inputs)\n",
    "            loss = criterion(outputs, labels.float())\n",
    "            loss.backward()\n",
    "            optimizer.step()\n",
    "\n",
    "            total_loss += loss.item()\n",
    "\n",
    "        average_loss = total_loss / len(train_loader)\n",
    "        writer.add_scalar('Loss/train', average_loss, epoch + 1)\n",
    "\n",
    "        model.eval()\n",
    "        correct = 0\n",
    "        total = 0\n",
    "        with torch.no_grad():\n",
    "            for inputs, labels in test_loader:\n",
    "                inputs, labels = inputs.to(device), labels.to(device).view(-1, 1)\n",
    "                outputs = model(inputs)\n",
    "                predicted = (outputs >= 0.5).float()\n",
    "                total += labels.size(0)\n",
    "                correct += (predicted == labels).sum().item()\n",
    "\n",
    "        accuracy = 100 * correct / total\n",
    "        writer.add_scalar('Accuracy/test', accuracy, epoch + 1)\n",
    "\n",
    "        print(f'Epoch [{epoch + 1}/{num_epochs}], Loss: {average_loss:.4f}, Accuracy: {accuracy:.2f}%')\n",
    "\n",
    "        if accuracy >= target_accuracy:\n",
    "            print(f\"Reached target accuracy of {target_accuracy:.2f}%.\")\n",
    "            break\n",
    "\n",
    "    writer.flush()\n",
    "    writer.close()\n",
    "\n",
    "# Set the device to GPU if available, otherwise CPU\n",
    "device = torch.device('cuda' if torch.cuda.is_available() else 'cpu')\n",
    "\n",
    "# Define the model\n",
    "input_dim = X_train.shape[1]\n",
    "hidden_dim = 32\n",
    "model = LoanBinaryModel(input_dim, hidden_dim)\n",
    "\n",
    "# Train the model with stopping criterion\n",
    "num_epochs = 100\n",
    "learning_rate = 0.00001\n",
    "target_accuracy = 95.0  # Stop training when the accuracy reaches 95%\n",
    "train_binary_model(model, train_loader, test_loader, num_epochs, learning_rate, target_accuracy, device)"
   ]
  },
  {
   "cell_type": "code",
   "execution_count": null,
   "metadata": {},
   "outputs": [],
   "source": [
    "from sklearn.metrics import confusion_matrix, classification_report\n",
    "import numpy as np\n",
    "\n",
    "def evaluate_model(model, test_loader, device):\n",
    "    model.eval()\n",
    "    y_true = []\n",
    "    y_pred = []\n",
    "\n",
    "    with torch.no_grad():\n",
    "        for inputs, labels in test_loader:\n",
    "            inputs, labels = inputs.to(device), labels.to(device).view(-1, 1)\n",
    "            outputs = model(inputs)\n",
    "            predicted = (outputs >= 0.5).float()  # Convert probabilities to binary predictions\n",
    "            y_pred.extend(predicted.cpu().numpy())\n",
    "            y_true.extend(labels.cpu().numpy())\n",
    "\n",
    "    # Convert lists to numpy arrays\n",
    "    y_true = np.array(y_true)\n",
    "    y_pred = np.array(y_pred)\n",
    "\n",
    "    # Create the confusion matrix\n",
    "    cm = confusion_matrix(y_true, y_pred)\n",
    "\n",
    "    print(\"Confusion Matrix:\")\n",
    "    print(cm)\n",
    "\n",
    "    # Print classification report with zero_division parameter\n",
    "    report = classification_report(y_true, y_pred, target_names=['Safe', 'Risky'], zero_division=1)\n",
    "    print(\"\\nClassification Report:\")\n",
    "    print(report)\n",
    "\n",
    "# Evaluate the trained model and print the confusion matrix\n",
    "evaluate_model(model, test_loader, device)\n"
   ]
  },
  {
   "cell_type": "code",
   "execution_count": null,
   "metadata": {},
   "outputs": [],
   "source": []
  },
  {
   "cell_type": "code",
   "execution_count": null,
   "metadata": {},
   "outputs": [],
   "source": []
  }
 ],
 "metadata": {
  "kernelspec": {
   "display_name": "Python 3",
   "language": "python",
   "name": "python3"
  },
  "language_info": {
   "codemirror_mode": {
    "name": "ipython",
    "version": 3
   },
   "file_extension": ".py",
   "mimetype": "text/x-python",
   "name": "python",
   "nbconvert_exporter": "python",
   "pygments_lexer": "ipython3",
   "version": "3.11.4"
  },
  "orig_nbformat": 4
 },
 "nbformat": 4,
 "nbformat_minor": 2
}
