{
 "cells": [
  {
   "cell_type": "code",
   "execution_count": 1,
   "metadata": {},
   "outputs": [],
   "source": [
    "# importing the required libraries\n",
    "import numpy as np\n",
    "import pandas as pd\n",
    "import seaborn as sns\n",
    "import matplotlib.pyplot as plt\n",
    "from scipy.stats import chi2_contingency\n",
    "%matplotlib inline\n"
   ]
  },
  {
   "cell_type": "code",
   "execution_count": 2,
   "metadata": {},
   "outputs": [
    {
     "data": {
      "text/html": [
       "<div>\n",
       "<style scoped>\n",
       "    .dataframe tbody tr th:only-of-type {\n",
       "        vertical-align: middle;\n",
       "    }\n",
       "\n",
       "    .dataframe tbody tr th {\n",
       "        vertical-align: top;\n",
       "    }\n",
       "\n",
       "    .dataframe thead th {\n",
       "        text-align: right;\n",
       "    }\n",
       "</style>\n",
       "<table border=\"1\" class=\"dataframe\">\n",
       "  <thead>\n",
       "    <tr style=\"text-align: right;\">\n",
       "      <th></th>\n",
       "      <th>loanID</th>\n",
       "      <th>amount</th>\n",
       "      <th>term</th>\n",
       "      <th>rate</th>\n",
       "      <th>payment</th>\n",
       "      <th>grade</th>\n",
       "      <th>employment</th>\n",
       "      <th>length</th>\n",
       "      <th>home</th>\n",
       "      <th>income</th>\n",
       "      <th>...</th>\n",
       "      <th>totalBal</th>\n",
       "      <th>totalRevLim</th>\n",
       "      <th>accOpen24</th>\n",
       "      <th>avgBal</th>\n",
       "      <th>bcOpen</th>\n",
       "      <th>bcRatio</th>\n",
       "      <th>totalLim</th>\n",
       "      <th>totalRevBal</th>\n",
       "      <th>totalBcLim</th>\n",
       "      <th>totalIlLim</th>\n",
       "    </tr>\n",
       "  </thead>\n",
       "  <tbody>\n",
       "    <tr>\n",
       "      <th>0</th>\n",
       "      <td>188861</td>\n",
       "      <td>8000.0</td>\n",
       "      <td>36 months</td>\n",
       "      <td>0.14</td>\n",
       "      <td>272.07</td>\n",
       "      <td>C</td>\n",
       "      <td>Warehouseman</td>\n",
       "      <td>3 years</td>\n",
       "      <td>RENT</td>\n",
       "      <td>49966.0</td>\n",
       "      <td>...</td>\n",
       "      <td>48054.0</td>\n",
       "      <td>8100.0</td>\n",
       "      <td>8.0</td>\n",
       "      <td>4369.0</td>\n",
       "      <td>43.0</td>\n",
       "      <td>95.7</td>\n",
       "      <td>60629.0</td>\n",
       "      <td>48054.0</td>\n",
       "      <td>1000.0</td>\n",
       "      <td>52529.0</td>\n",
       "    </tr>\n",
       "    <tr>\n",
       "      <th>1</th>\n",
       "      <td>517703</td>\n",
       "      <td>11000.0</td>\n",
       "      <td>36 months</td>\n",
       "      <td>0.10</td>\n",
       "      <td>354.89</td>\n",
       "      <td>B</td>\n",
       "      <td>Vice President</td>\n",
       "      <td>10+ years</td>\n",
       "      <td>MORTGAGE</td>\n",
       "      <td>50000.0</td>\n",
       "      <td>...</td>\n",
       "      <td>265838.0</td>\n",
       "      <td>33400.0</td>\n",
       "      <td>4.0</td>\n",
       "      <td>22153.0</td>\n",
       "      <td>19756.0</td>\n",
       "      <td>37.5</td>\n",
       "      <td>297500.0</td>\n",
       "      <td>11844.0</td>\n",
       "      <td>31600.0</td>\n",
       "      <td>0.0</td>\n",
       "    </tr>\n",
       "    <tr>\n",
       "      <th>2</th>\n",
       "      <td>268587</td>\n",
       "      <td>35000.0</td>\n",
       "      <td>36 months</td>\n",
       "      <td>0.15</td>\n",
       "      <td>1220.33</td>\n",
       "      <td>D</td>\n",
       "      <td>Owner/Attorney</td>\n",
       "      <td>10+ years</td>\n",
       "      <td>RENT</td>\n",
       "      <td>360000.0</td>\n",
       "      <td>...</td>\n",
       "      <td>850150.0</td>\n",
       "      <td>83000.0</td>\n",
       "      <td>2.0</td>\n",
       "      <td>121450.0</td>\n",
       "      <td>7686.0</td>\n",
       "      <td>83.2</td>\n",
       "      <td>907300.0</td>\n",
       "      <td>173260.0</td>\n",
       "      <td>83000.0</td>\n",
       "      <td>100000.0</td>\n",
       "    </tr>\n",
       "    <tr>\n",
       "      <th>3</th>\n",
       "      <td>579902</td>\n",
       "      <td>20000.0</td>\n",
       "      <td>60 months</td>\n",
       "      <td>0.12</td>\n",
       "      <td>447.83</td>\n",
       "      <td>C</td>\n",
       "      <td>Analyst</td>\n",
       "      <td>2 years</td>\n",
       "      <td>MORTGAGE</td>\n",
       "      <td>60000.0</td>\n",
       "      <td>...</td>\n",
       "      <td>20671.0</td>\n",
       "      <td>14200.0</td>\n",
       "      <td>8.0</td>\n",
       "      <td>1723.0</td>\n",
       "      <td>11061.0</td>\n",
       "      <td>1.2</td>\n",
       "      <td>46964.0</td>\n",
       "      <td>20671.0</td>\n",
       "      <td>11200.0</td>\n",
       "      <td>32764.0</td>\n",
       "    </tr>\n",
       "    <tr>\n",
       "      <th>4</th>\n",
       "      <td>617630</td>\n",
       "      <td>12000.0</td>\n",
       "      <td>60 months</td>\n",
       "      <td>0.12</td>\n",
       "      <td>266.88</td>\n",
       "      <td>B</td>\n",
       "      <td>medical technician</td>\n",
       "      <td>10+ years</td>\n",
       "      <td>MORTGAGE</td>\n",
       "      <td>64000.0</td>\n",
       "      <td>...</td>\n",
       "      <td>128034.0</td>\n",
       "      <td>14600.0</td>\n",
       "      <td>3.0</td>\n",
       "      <td>18291.0</td>\n",
       "      <td>5904.0</td>\n",
       "      <td>58.4</td>\n",
       "      <td>134600.0</td>\n",
       "      <td>8475.0</td>\n",
       "      <td>14200.0</td>\n",
       "      <td>0.0</td>\n",
       "    </tr>\n",
       "  </tbody>\n",
       "</table>\n",
       "<p>5 rows × 32 columns</p>\n",
       "</div>"
      ],
      "text/plain": [
       "   loanID   amount        term  rate  payment grade          employment  \\\n",
       "0  188861   8000.0   36 months  0.14   272.07     C       Warehouseman    \n",
       "1  517703  11000.0   36 months  0.10   354.89     B      Vice President   \n",
       "2  268587  35000.0   36 months  0.15  1220.33     D      Owner/Attorney   \n",
       "3  579902  20000.0   60 months  0.12   447.83     C             Analyst   \n",
       "4  617630  12000.0   60 months  0.12   266.88     B  medical technician   \n",
       "\n",
       "      length      home    income  ...  totalBal totalRevLim accOpen24  \\\n",
       "0    3 years      RENT   49966.0  ...   48054.0      8100.0       8.0   \n",
       "1  10+ years  MORTGAGE   50000.0  ...  265838.0     33400.0       4.0   \n",
       "2  10+ years      RENT  360000.0  ...  850150.0     83000.0       2.0   \n",
       "3    2 years  MORTGAGE   60000.0  ...   20671.0     14200.0       8.0   \n",
       "4  10+ years  MORTGAGE   64000.0  ...  128034.0     14600.0       3.0   \n",
       "\n",
       "     avgBal   bcOpen  bcRatio  totalLim  totalRevBal  totalBcLim  totalIlLim  \n",
       "0    4369.0     43.0     95.7   60629.0      48054.0      1000.0     52529.0  \n",
       "1   22153.0  19756.0     37.5  297500.0      11844.0     31600.0         0.0  \n",
       "2  121450.0   7686.0     83.2  907300.0     173260.0     83000.0    100000.0  \n",
       "3    1723.0  11061.0      1.2   46964.0      20671.0     11200.0     32764.0  \n",
       "4   18291.0   5904.0     58.4  134600.0       8475.0     14200.0         0.0  \n",
       "\n",
       "[5 rows x 32 columns]"
      ]
     },
     "execution_count": 2,
     "metadata": {},
     "output_type": "execute_result"
    }
   ],
   "source": [
    "# reading the data\n",
    "loan_data = pd.read_csv('loans50k.csv', encoding='latin1')\n",
    "loan_data.head()"
   ]
  },
  {
   "cell_type": "code",
   "execution_count": 3,
   "metadata": {},
   "outputs": [],
   "source": [
    "# drop the row where amount column is null\n",
    "loan_data.drop(loan_data[loan_data['amount'].isnull()].index, inplace=True)"
   ]
  },
  {
   "cell_type": "code",
   "execution_count": 4,
   "metadata": {},
   "outputs": [],
   "source": [
    "# dropp the rows where revolRatio or bcOpen or bcRatio or employment or length column is null\n",
    "loan_data.drop(loan_data[loan_data['revolRatio'].isnull() | loan_data['bcOpen'].isnull()\n",
    "                          | loan_data['bcRatio'].isnull() | loan_data['employment'].isnull()\n",
    "                            | loan_data['length'].isnull()].index, inplace=True)"
   ]
  },
  {
   "cell_type": "code",
   "execution_count": 5,
   "metadata": {},
   "outputs": [],
   "source": [
    "loan_data.drop('loanID', axis=1, inplace=True)"
   ]
  },
  {
   "cell_type": "code",
   "execution_count": 6,
   "metadata": {},
   "outputs": [],
   "source": [
    "# replace \"Source Verified\" with \"Verified\" in verified column\n",
    "loan_data['verified'].replace('Source Verified', 'Verified', inplace=True)"
   ]
  },
  {
   "cell_type": "code",
   "execution_count": 8,
   "metadata": {},
   "outputs": [
    {
     "data": {
      "text/plain": [
       "(46714, 31)"
      ]
     },
     "execution_count": 8,
     "metadata": {},
     "output_type": "execute_result"
    }
   ],
   "source": [
    "loan_data.shape"
   ]
  },
  {
   "cell_type": "code",
   "execution_count": 9,
   "metadata": {},
   "outputs": [
    {
     "data": {
      "text/plain": [
       "amount         float64\n",
       "term            object\n",
       "rate           float64\n",
       "payment        float64\n",
       "grade           object\n",
       "employment      object\n",
       "length          object\n",
       "home            object\n",
       "income         float64\n",
       "verified        object\n",
       "status          object\n",
       "reason          object\n",
       "state           object\n",
       "debtIncRat     float64\n",
       "delinq2yr      float64\n",
       "inq6mth        float64\n",
       "openAcc        float64\n",
       "pubRec         float64\n",
       "revolRatio     float64\n",
       "totalAcc       float64\n",
       "totalPaid      float64\n",
       "totalBal       float64\n",
       "totalRevLim    float64\n",
       "accOpen24      float64\n",
       "avgBal         float64\n",
       "bcOpen         float64\n",
       "bcRatio        float64\n",
       "totalLim       float64\n",
       "totalRevBal    float64\n",
       "totalBcLim     float64\n",
       "totalIlLim     float64\n",
       "dtype: object"
      ]
     },
     "execution_count": 9,
     "metadata": {},
     "output_type": "execute_result"
    }
   ],
   "source": [
    "loan_data.dtypes"
   ]
  },
  {
   "cell_type": "code",
   "execution_count": 10,
   "metadata": {},
   "outputs": [
    {
     "data": {
      "text/plain": [
       "term\n",
       " 36 months    31188\n",
       " 60 months    15526\n",
       "Name: count, dtype: int64"
      ]
     },
     "execution_count": 10,
     "metadata": {},
     "output_type": "execute_result"
    }
   ],
   "source": [
    "loan_data['term'].value_counts()"
   ]
  },
  {
   "cell_type": "code",
   "execution_count": null,
   "metadata": {},
   "outputs": [],
   "source": []
  }
 ],
 "metadata": {
  "kernelspec": {
   "display_name": "Python 3",
   "language": "python",
   "name": "python3"
  },
  "language_info": {
   "codemirror_mode": {
    "name": "ipython",
    "version": 3
   },
   "file_extension": ".py",
   "mimetype": "text/x-python",
   "name": "python",
   "nbconvert_exporter": "python",
   "pygments_lexer": "ipython3",
   "version": "3.11.4"
  },
  "orig_nbformat": 4
 },
 "nbformat": 4,
 "nbformat_minor": 2
}
