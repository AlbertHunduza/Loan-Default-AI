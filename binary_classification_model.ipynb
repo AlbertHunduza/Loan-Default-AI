{
 "cells": [
  {
   "cell_type": "markdown",
   "metadata": {},
   "source": [
    "# Loan Default Classification: <br>\n",
    "## by Albert Hunduza"
   ]
  },
  {
   "cell_type": "markdown",
   "metadata": {},
   "source": [
    "### 1) Import Necessary Libraries"
   ]
  },
  {
   "cell_type": "markdown",
   "metadata": {},
   "source": [
    "* we start by importing the necessary libraries"
   ]
  },
  {
   "cell_type": "code",
   "execution_count": 1,
   "metadata": {},
   "outputs": [],
   "source": [
    "import torch\n",
    "import torch.nn as nn\n",
    "import torch.optim as optim\n",
    "import torch.utils.data as data\n",
    "\n",
    "import numpy as np\n",
    "import pandas as pd\n",
    "import matplotlib.pyplot as plt\n",
    "\n",
    "from sklearn.model_selection import train_test_split\n",
    "from sklearn.preprocessing import LabelEncoder"
   ]
  },
  {
   "cell_type": "markdown",
   "metadata": {},
   "source": [
    "### 2) Loading and Preparing Dataset"
   ]
  },
  {
   "cell_type": "markdown",
   "metadata": {},
   "source": [
    "* next we import and process the dataset for the neural network:\n",
    "    * we convert our target variable to binary numerical representation (this is not strictly necessary)\n",
    "    * we split our dataset into train and test set\n",
    "    * we convert our data to tensors\n",
    "    * finally, we create a dataloader to send our data to the model\n",
    "    "
   ]
  },
  {
   "cell_type": "code",
   "execution_count": 2,
   "metadata": {},
   "outputs": [],
   "source": [
    "# import dataset\n",
    "loan_data = pd.read_csv('preprocessed_loans50k.csv')\n",
    "\n",
    "# Convert 'status' to numerical labels\n",
    "status_mapping = {\n",
    "    'Safe': 0,\n",
    "    'Risky': 1\n",
    "}\n",
    "\n",
    "loan_data['status'] = loan_data['status'].map(status_mapping)\n",
    "\n",
    "# Separate features and labels\n",
    "X = loan_data.drop('status', axis=1)\n",
    "y = loan_data['status']\n",
    "\n",
    "# Use LabelEncoder to encode 'Safe' as 0 and 'Risky' as 1\n",
    "label_encoder = LabelEncoder()\n",
    "y = label_encoder.fit_transform(y)\n",
    "\n",
    "# Split the data into training and testing sets\n",
    "X_train, X_test, y_train, y_test = train_test_split(X, y, test_size=0.2, random_state=42)\n",
    "\n",
    "# Convert data to PyTorch tensors\n",
    "X_train = torch.tensor(X_train.values, dtype=torch.float32)\n",
    "X_test = torch.tensor(X_test.values, dtype=torch.float32)\n",
    "y_train = torch.tensor(y_train, dtype=torch.long)\n",
    "y_test = torch.tensor(y_test, dtype=torch.long)\n",
    "\n",
    "# Create DataLoader for training and testing data\n",
    "train_dataset = data.TensorDataset(X_train, y_train)\n",
    "test_dataset = data.TensorDataset(X_test, y_test)\n",
    "\n",
    "train_loader = data.DataLoader(train_dataset, batch_size=128, shuffle=True)\n",
    "test_loader = data.DataLoader(test_dataset, batch_size=128, shuffle=False)\n"
   ]
  },
  {
   "cell_type": "markdown",
   "metadata": {},
   "source": [
    "### 3) Defining Binary Classification Model"
   ]
  },
  {
   "cell_type": "code",
   "execution_count": 3,
   "metadata": {},
   "outputs": [],
   "source": [
    "class LoanBinaryModel(nn.Module):\n",
    "    def __init__(self, input_dim, hidden_dim):\n",
    "        super(LoanBinaryModel, self).__init__()\n",
    "        self.fc1 = nn.Linear(input_dim, hidden_dim) # input_dim = 35\n",
    "        self.relu = nn.ReLU() # activation function\n",
    "        self.fc2 = nn.Linear(hidden_dim, hidden_dim) # hidden_dim = hyperparameter\n",
    "        self.fc3 = nn.Linear(hidden_dim, hidden_dim)\n",
    "        self.fc4 = nn.Linear(hidden_dim, 1)\n",
    "        self.sigmoid = nn.Sigmoid() # activation function\n",
    "\n",
    "    def forward(self, x):\n",
    "        out = self.fc1(x) \n",
    "        out = self.relu(out) \n",
    "        out = self.fc2(out)\n",
    "        out = self.relu(out)\n",
    "        out = self.fc3(out)\n",
    "        out = self.relu(out)\n",
    "        out = self.fc4(out)\n",
    "        out = self.sigmoid(out)\n",
    "        return out"
   ]
  },
  {
   "cell_type": "markdown",
   "metadata": {},
   "source": [
    "### 4) Training Binary Classification Model"
   ]
  },
  {
   "cell_type": "code",
   "execution_count": 5,
   "metadata": {},
   "outputs": [
    {
     "name": "stdout",
     "output_type": "stream",
     "text": [
      "Epoch [1/100], Loss: 14.5566, Accuracy: 82.18%\n",
      "Epoch [2/100], Loss: 10.9064, Accuracy: 77.59%\n",
      "Epoch [3/100], Loss: 8.6603, Accuracy: 83.14%\n",
      "Epoch [4/100], Loss: 7.4303, Accuracy: 84.56%\n",
      "Epoch [5/100], Loss: 5.7805, Accuracy: 84.32%\n",
      "Epoch [6/100], Loss: 4.3951, Accuracy: 85.83%\n",
      "Epoch [7/100], Loss: 3.5252, Accuracy: 83.19%\n",
      "Epoch [8/100], Loss: 2.6736, Accuracy: 82.21%\n",
      "Epoch [9/100], Loss: 2.0997, Accuracy: 87.52%\n",
      "Epoch [10/100], Loss: 1.8433, Accuracy: 86.36%\n",
      "Epoch [11/100], Loss: 1.6408, Accuracy: 88.40%\n",
      "Epoch [12/100], Loss: 1.4445, Accuracy: 89.16%\n",
      "Epoch [13/100], Loss: 1.4267, Accuracy: 88.91%\n",
      "Epoch [14/100], Loss: 1.2359, Accuracy: 83.99%\n",
      "Epoch [15/100], Loss: 1.2702, Accuracy: 89.25%\n",
      "Epoch [16/100], Loss: 1.0568, Accuracy: 86.82%\n",
      "Epoch [17/100], Loss: 1.1256, Accuracy: 89.69%\n",
      "Epoch [18/100], Loss: 1.0150, Accuracy: 85.51%\n",
      "Epoch [19/100], Loss: 0.9674, Accuracy: 90.23%\n",
      "Epoch [20/100], Loss: 0.9562, Accuracy: 88.78%\n",
      "Epoch [21/100], Loss: 0.9473, Accuracy: 82.91%\n",
      "Epoch [22/100], Loss: 0.8369, Accuracy: 90.36%\n",
      "Epoch [23/100], Loss: 0.8436, Accuracy: 90.29%\n",
      "Epoch [24/100], Loss: 0.8483, Accuracy: 89.92%\n",
      "Epoch [25/100], Loss: 0.7154, Accuracy: 90.60%\n",
      "Epoch [26/100], Loss: 0.7169, Accuracy: 86.70%\n",
      "Epoch [27/100], Loss: 0.6938, Accuracy: 87.84%\n",
      "Epoch [28/100], Loss: 0.7084, Accuracy: 89.19%\n",
      "Epoch [29/100], Loss: 0.6727, Accuracy: 88.49%\n",
      "Epoch [30/100], Loss: 0.6049, Accuracy: 90.80%\n",
      "Epoch [31/100], Loss: 0.6058, Accuracy: 90.83%\n",
      "Epoch [32/100], Loss: 0.5951, Accuracy: 91.07%\n",
      "Epoch [33/100], Loss: 0.5706, Accuracy: 84.95%\n",
      "Epoch [34/100], Loss: 0.5460, Accuracy: 89.56%\n",
      "Epoch [35/100], Loss: 0.4868, Accuracy: 88.56%\n",
      "Epoch [36/100], Loss: 0.5026, Accuracy: 90.90%\n",
      "Epoch [37/100], Loss: 0.4777, Accuracy: 90.61%\n",
      "Epoch [38/100], Loss: 0.4430, Accuracy: 90.93%\n",
      "Epoch [39/100], Loss: 0.4746, Accuracy: 91.00%\n",
      "Epoch [40/100], Loss: 0.4389, Accuracy: 90.76%\n",
      "Epoch [41/100], Loss: 0.4231, Accuracy: 87.99%\n",
      "Epoch [42/100], Loss: 0.4103, Accuracy: 89.36%\n",
      "Epoch [43/100], Loss: 0.4100, Accuracy: 90.67%\n",
      "Epoch [44/100], Loss: 0.3878, Accuracy: 90.22%\n",
      "Epoch [45/100], Loss: 0.4262, Accuracy: 87.15%\n",
      "Epoch [46/100], Loss: 0.3924, Accuracy: 90.57%\n",
      "Epoch [47/100], Loss: 0.3640, Accuracy: 90.43%\n",
      "Epoch [48/100], Loss: 0.3826, Accuracy: 89.75%\n",
      "Epoch [49/100], Loss: 0.3530, Accuracy: 91.07%\n",
      "Epoch [50/100], Loss: 0.3473, Accuracy: 88.72%\n",
      "Epoch [51/100], Loss: 0.3407, Accuracy: 90.13%\n",
      "Epoch [52/100], Loss: 0.3327, Accuracy: 90.10%\n",
      "Epoch [53/100], Loss: 0.3311, Accuracy: 90.91%\n",
      "Epoch [54/100], Loss: 0.3326, Accuracy: 90.55%\n",
      "Epoch [55/100], Loss: 0.3220, Accuracy: 90.67%\n",
      "Epoch [56/100], Loss: 0.3312, Accuracy: 90.85%\n",
      "Epoch [57/100], Loss: 0.3161, Accuracy: 91.22%\n",
      "Epoch [58/100], Loss: 0.3100, Accuracy: 90.74%\n",
      "Epoch [59/100], Loss: 0.2970, Accuracy: 91.19%\n",
      "Epoch [60/100], Loss: 0.2988, Accuracy: 90.60%\n",
      "Epoch [61/100], Loss: 0.3001, Accuracy: 89.86%\n",
      "Epoch [62/100], Loss: 0.2988, Accuracy: 91.24%\n",
      "Epoch [63/100], Loss: 0.2939, Accuracy: 89.81%\n",
      "Epoch [64/100], Loss: 0.3020, Accuracy: 91.47%\n",
      "Epoch [65/100], Loss: 0.2988, Accuracy: 91.14%\n",
      "Epoch [66/100], Loss: 0.2895, Accuracy: 89.32%\n",
      "Epoch [67/100], Loss: 0.2955, Accuracy: 91.04%\n",
      "Epoch [68/100], Loss: 0.2941, Accuracy: 91.62%\n",
      "Epoch [69/100], Loss: 0.2909, Accuracy: 88.28%\n",
      "Epoch [70/100], Loss: 0.2849, Accuracy: 91.80%\n",
      "Epoch [71/100], Loss: 0.2779, Accuracy: 91.69%\n",
      "Epoch [72/100], Loss: 0.2739, Accuracy: 90.43%\n",
      "Epoch [73/100], Loss: 0.2740, Accuracy: 91.04%\n",
      "Epoch [74/100], Loss: 0.2738, Accuracy: 91.78%\n",
      "Epoch [75/100], Loss: 0.2682, Accuracy: 89.83%\n",
      "Epoch [76/100], Loss: 0.2729, Accuracy: 86.94%\n",
      "Epoch [77/100], Loss: 0.2618, Accuracy: 89.91%\n",
      "Epoch [78/100], Loss: 0.2626, Accuracy: 90.63%\n",
      "Epoch [79/100], Loss: 0.2655, Accuracy: 91.98%\n",
      "Epoch [80/100], Loss: 0.2607, Accuracy: 92.13%\n",
      "Epoch [81/100], Loss: 0.2593, Accuracy: 91.95%\n",
      "Epoch [82/100], Loss: 0.2584, Accuracy: 90.50%\n",
      "Epoch [83/100], Loss: 0.2554, Accuracy: 90.23%\n",
      "Epoch [84/100], Loss: 0.2607, Accuracy: 91.66%\n",
      "Epoch [85/100], Loss: 0.2549, Accuracy: 91.98%\n",
      "Epoch [86/100], Loss: 0.2541, Accuracy: 91.84%\n",
      "Epoch [87/100], Loss: 0.2570, Accuracy: 90.58%\n",
      "Epoch [88/100], Loss: 0.2517, Accuracy: 92.10%\n",
      "Epoch [89/100], Loss: 0.2550, Accuracy: 92.20%\n",
      "Epoch [90/100], Loss: 0.2458, Accuracy: 91.51%\n",
      "Epoch [91/100], Loss: 0.2514, Accuracy: 91.93%\n",
      "Epoch [92/100], Loss: 0.2466, Accuracy: 91.41%\n",
      "Epoch [93/100], Loss: 0.2483, Accuracy: 92.20%\n",
      "Epoch [94/100], Loss: 0.2488, Accuracy: 92.23%\n",
      "Epoch [95/100], Loss: 0.2486, Accuracy: 91.64%\n",
      "Epoch [96/100], Loss: 0.2440, Accuracy: 92.24%\n",
      "Epoch [97/100], Loss: 0.2393, Accuracy: 88.43%\n",
      "Epoch [98/100], Loss: 0.2455, Accuracy: 92.21%\n",
      "Epoch [99/100], Loss: 0.2426, Accuracy: 92.09%\n",
      "Epoch [100/100], Loss: 0.2423, Accuracy: 91.38%\n"
     ]
    }
   ],
   "source": [
    "\n",
    "from torch.utils.tensorboard import SummaryWriter\n",
    "\n",
    "\n",
    "def train_binary_model(model, train_loader, test_loader, num_epochs, learning_rate, target_accuracy, device):\n",
    "    model.to(device)\n",
    "    criterion = nn.BCELoss()\n",
    "    optimizer = optim.Adadelta(model.parameters(), lr=learning_rate)\n",
    "    writer = SummaryWriter()\n",
    "\n",
    "    for epoch in range(num_epochs):\n",
    "        model.train()\n",
    "        total_loss = 0\n",
    "        for _, (inputs, labels) in enumerate(train_loader):\n",
    "            inputs, labels = inputs.to(device), labels.to(device).view(-1, 1)\n",
    "\n",
    "            optimizer.zero_grad()\n",
    "            outputs = model(inputs)\n",
    "            loss = criterion(outputs, labels.float())\n",
    "            loss.backward()\n",
    "            optimizer.step()\n",
    "\n",
    "            total_loss += loss.item()\n",
    "\n",
    "        average_loss = total_loss / len(train_loader)\n",
    "        writer.add_scalar('Loss/train', average_loss, epoch + 1)\n",
    "\n",
    "        model.eval()\n",
    "        correct = 0\n",
    "        total = 0\n",
    "        with torch.no_grad():\n",
    "            for inputs, labels in test_loader:\n",
    "                inputs, labels = inputs.to(device), labels.to(device).view(-1, 1)\n",
    "                outputs = model(inputs)\n",
    "                predicted = (outputs >= 0.5).float()\n",
    "                total += labels.size(0)\n",
    "                correct += (predicted == labels).sum().item()\n",
    "\n",
    "        accuracy = 100 * correct / total\n",
    "        writer.add_scalar('Accuracy/test', accuracy, epoch + 1)\n",
    "\n",
    "        print(f'Epoch [{epoch + 1}/{num_epochs}], Loss: {average_loss:.4f}, Accuracy: {accuracy:.2f}%')\n",
    "\n",
    "        if accuracy >= target_accuracy:\n",
    "            print(f\"Reached target accuracy of {target_accuracy:.2f}%.\")\n",
    "            break\n",
    "\n",
    "    writer.flush()\n",
    "    writer.close()\n",
    "\n",
    "# Set the device to GPU if available, otherwise CPU\n",
    "device = torch.device('cuda' if torch.cuda.is_available() else 'cpu')\n",
    "\n",
    "# Define the model\n",
    "input_dim = X_train.shape[1]\n",
    "hidden_dim = 16\n",
    "model = LoanBinaryModel(input_dim, hidden_dim)\n",
    "\n",
    "# Train the model with stopping criterion\n",
    "num_epochs = 100\n",
    "learning_rate = 0.1\n",
    "target_accuracy = 95.0  # Stop training when the accuracy reaches 95%\n",
    "train_binary_model(model, train_loader, test_loader, num_epochs, learning_rate, target_accuracy, device)"
   ]
  },
  {
   "cell_type": "markdown",
   "metadata": {},
   "source": [
    "### 5) Confusion Matrix"
   ]
  },
  {
   "cell_type": "code",
   "execution_count": 6,
   "metadata": {},
   "outputs": [
    {
     "name": "stdout",
     "output_type": "stream",
     "text": [
      "Confusion Matrix:\n",
      "[[7392  374]\n",
      " [ 431 1146]]\n",
      "\n",
      "Classification Report:\n",
      "              precision    recall  f1-score   support\n",
      "\n",
      "        Safe       0.94      0.95      0.95      7766\n",
      "       Risky       0.75      0.73      0.74      1577\n",
      "\n",
      "    accuracy                           0.91      9343\n",
      "   macro avg       0.85      0.84      0.84      9343\n",
      "weighted avg       0.91      0.91      0.91      9343\n",
      "\n"
     ]
    },
    {
     "data": {
      "image/png": "[encoded data removed]",
      "text/plain": [
       "<Figure size 800x600 with 2 Axes>"
      ]
     },
     "metadata": {},
     "output_type": "display_data"
    }
   ],
   "source": [
    "from sklearn.metrics import confusion_matrix, classification_report\n",
    "\n",
    "def evaluate_model(model, test_loader, device):\n",
    "    model.eval()\n",
    "    y_true = []\n",
    "    y_pred = []\n",
    "\n",
    "    with torch.no_grad():\n",
    "        for inputs, labels in test_loader:\n",
    "            inputs, labels = inputs.to(device), labels.to(device).view(-1, 1)\n",
    "            outputs = model(inputs)\n",
    "            predicted = (outputs >= 0.5).float()  # Convert probabilities to binary predictions\n",
    "            y_pred.extend(predicted.cpu().numpy())\n",
    "            y_true.extend(labels.cpu().numpy())\n",
    "\n",
    "    # Convert lists to numpy arrays\n",
    "    y_true = np.array(y_true)\n",
    "    y_pred = np.array(y_pred)\n",
    "\n",
    "    # Create the confusion matrix\n",
    "    cm = confusion_matrix(y_true, y_pred)\n",
    "\n",
    "    print(\"Confusion Matrix:\")\n",
    "    print(cm)\n",
    "\n",
    "    # Print classification report with zero_division parameter\n",
    "    report = classification_report(y_true, y_pred, target_names=['Safe', 'Risky'], zero_division=1)\n",
    "    print(\"\\nClassification Report:\")\n",
    "    print(report)\n",
    "\n",
    "    # Plot the confusion matrix\n",
    "    plt.figure(figsize=(8, 6))\n",
    "    plt.imshow(cm, interpolation='nearest', cmap=plt.cm.Blues)\n",
    "    plt.title(\"Confusion Matrix\", fontsize=16, weight='bold')\n",
    "    plt.colorbar()\n",
    "    tick_marks = np.arange(len(['Safe', 'Risky']))\n",
    "    plt.xticks(tick_marks, ['Safe', 'Risky'], rotation=45)\n",
    "    plt.yticks(tick_marks, ['Safe', 'Risky'])\n",
    "\n",
    "    # Display the values in each cell\n",
    "    thresh = cm.max() / 2.0\n",
    "    for i in range(cm.shape[0]):\n",
    "        for j in range(cm.shape[1]):\n",
    "            plt.text(j, i, format(cm[i, j], 'd'),\n",
    "                    horizontalalignment=\"center\",\n",
    "                    color=\"white\" if cm[i, j] > thresh else \"black\")\n",
    "\n",
    "    plt.ylabel('True label')\n",
    "    plt.xlabel('Predicted label')\n",
    "    plt.tight_layout()\n",
    "\n",
    "    plt.show()\n",
    "\n",
    "\n",
    "# Evaluate the trained model and print the confusion matrix\n",
    "evaluate_model(model, test_loader, device)"
   ]
  },
  {
   "cell_type": "markdown",
   "metadata": {},
   "source": [
    "* we can see that our model is performing well, with an accuracy of 91%.\n",
    "    * our model has a good recall, particularly for the Safe class\n",
    "    * It also has a low misclassification rate"
   ]
  },
  {
   "cell_type": "markdown",
   "metadata": {},
   "source": [
    "### 6) Saving Model"
   ]
  },
  {
   "cell_type": "code",
   "execution_count": 7,
   "metadata": {},
   "outputs": [
    {
     "name": "stdout",
     "output_type": "stream",
     "text": [
      "Model's state_dict saved to: models\\loan_binary_model_state_dict.pth\n"
     ]
    }
   ],
   "source": [
    "# Save the model's state_dict\n",
    "from pathlib import Path # to create directory to save model\n",
    "\n",
    "MODEL_PATH = Path(\"models\")\n",
    "MODEL_PATH.mkdir(parents=True, # create parent directories if needed\n",
    "                 exist_ok=True # if models directory already exists, don't error\n",
    ")\n",
    "\n",
    "MODEL_NAME = \"loan_binary_model_state_dict.pth\"\n",
    "MODEL_SAVE_PATH = MODEL_PATH / MODEL_NAME\n",
    "\n",
    "torch.save(model.state_dict(), MODEL_SAVE_PATH) # save model's weights and biases\n",
    "print(f\"Model's state_dict saved to: {MODEL_SAVE_PATH}\") \n"
   ]
  },
  {
   "cell_type": "markdown",
   "metadata": {},
   "source": [
    "### 6.5) Evaluating the saved Model"
   ]
  },
  {
   "cell_type": "code",
   "execution_count": 8,
   "metadata": {},
   "outputs": [
    {
     "name": "stdout",
     "output_type": "stream",
     "text": [
      "Accuracy of the loaded model's weights: 91.38%\n"
     ]
    }
   ],
   "source": [
    "# Create an instance of LoanBinaryModel (assumes the same architecture)\n",
    "loaded_model = LoanBinaryModel(input_dim, hidden_dim)\n",
    "\n",
    "# Load the saved state_dict\n",
    "loaded_model.load_state_dict(torch.load(MODEL_SAVE_PATH))\n",
    "\n",
    "# Send the loaded model to the same device (GPU or CPU)\n",
    "loaded_model.to(device)\n",
    "\n",
    "# Set the model to evaluation mode\n",
    "loaded_model.eval()\n",
    "\n",
    "# Evaluate the loaded model\n",
    "correct = 0\n",
    "total = 0\n",
    "with torch.no_grad():\n",
    "    for inputs, labels in test_loader:\n",
    "        inputs, labels = inputs.to(device), labels.to(device).view(-1, 1)\n",
    "        outputs = loaded_model(inputs)\n",
    "        predicted = (outputs >= 0.5).float()\n",
    "        total += labels.size(0)\n",
    "        correct += (predicted == labels).sum().item()\n",
    "\n",
    "accuracy = 100 * correct / total\n",
    "print(f\"Accuracy of the loaded model's weights: {accuracy:.2f}%\")"
   ]
  },
  {
   "cell_type": "markdown",
   "metadata": {},
   "source": [
    "### Index: Hyperparameter Tuning"
   ]
  },
  {
   "cell_type": "markdown",
   "metadata": {},
   "source": [
    "* below is the code block that I used to perform hyperparameter tuning to find the best performing params"
   ]
  },
  {
   "cell_type": "code",
   "execution_count": null,
   "metadata": {},
   "outputs": [],
   "source": [
    "from torch.utils.tensorboard import SummaryWriter\n",
    "\n",
    "def train_binary_model_with_tuning(model, train_loader, test_loader, num_epochs, learning_rate, hidden_dim, optimizer_name, device):\n",
    "    model.to(device)\n",
    "    criterion = nn.BCELoss()\n",
    "    optimizer = get_optimizer(optimizer_name, model.parameters(), lr=learning_rate)\n",
    "    writer = SummaryWriter(comment=f'-lr_{learning_rate}-hidden_dim_{hidden_dim}-optimizer_{optimizer_name}')\n",
    "\n",
    "    total_steps = len(train_loader)\n",
    "    for epoch in range(num_epochs):\n",
    "        model.train()\n",
    "        total_loss = 0\n",
    "        for _, (inputs, labels) in enumerate(train_loader):\n",
    "            inputs, labels = inputs.to(device), labels.to(device).view(-1, 1)\n",
    "\n",
    "            optimizer.zero_grad()\n",
    "            outputs = model(inputs)\n",
    "            loss = criterion(outputs, labels.float())\n",
    "            loss.backward()\n",
    "            optimizer.step()\n",
    "\n",
    "            total_loss += loss.item()\n",
    "\n",
    "        average_loss = total_loss / len(train_loader)\n",
    "        writer.add_scalar('Loss/train', average_loss, epoch + 1)\n",
    "\n",
    "        model.eval()\n",
    "        correct = 0\n",
    "        total = 0\n",
    "        with torch.no_grad():\n",
    "            for inputs, labels in test_loader:\n",
    "                inputs, labels = inputs.to(device), labels.to(device).view(-1, 1)\n",
    "                outputs = model(inputs)\n",
    "                predicted = (outputs >= 0.5).float()\n",
    "                total += labels.size(0)\n",
    "                correct += (predicted == labels).sum().item()\n",
    "\n",
    "        accuracy = 100 * correct / total\n",
    "        writer.add_scalar('Accuracy/test', accuracy, epoch + 1)\n",
    "\n",
    "        print(f'Epoch [{epoch + 1}/{num_epochs}], Loss: {average_loss:.4f}, Accuracy: {accuracy:.2f}%')\n",
    "\n",
    "    writer.flush()\n",
    "    writer.close()\n",
    "\n",
    "def get_optimizer(optimizer_name, parameters, lr):\n",
    "    if optimizer_name == 'sgd':\n",
    "        return optim.SGD(parameters, lr=lr)\n",
    "    elif optimizer_name == 'adam':\n",
    "        return optim.Adam(parameters, lr=lr)\n",
    "    elif optimizer_name == 'adadelta':\n",
    "        return optim.Adadelta(parameters, lr=lr)\n",
    "    elif optimizer_name == 'rmsprop':\n",
    "        return optim.RMSprop(parameters, lr=lr)\n",
    "    else:\n",
    "        raise ValueError(f'Optimizer {optimizer_name} not supported.')\n",
    "\n",
    "# Hyperparameter tuning\n",
    "\n",
    "# Define hyperparameter search space\n",
    "learning_rates = [0.1, 0.01, 0.001, 0.0001]\n",
    "hidden_dims = [16, 32, 64, 128]\n",
    "optimizers = ['sgd', 'adam', 'adadelta', 'rmsprop']\n",
    "\n",
    "# Perform grid search over the hyperparameter space\n",
    "for lr in learning_rates:\n",
    "    for hidden_dim in hidden_dims:\n",
    "        for optimizer_name in optimizers:\n",
    "            model = LoanBinaryModel(input_dim, hidden_dim)\n",
    "            train_binary_model_with_tuning(model, train_loader, test_loader, num_epochs, lr, hidden_dim, optimizer_name, device)"
   ]
  },
  {
   "cell_type": "markdown",
   "metadata": {},
   "source": [
    "# END"
   ]
  }
 ],
 "metadata": {
  "kernelspec": {
   "display_name": "Python 3",
   "language": "python",
   "name": "python3"
  },
  "language_info": {
   "codemirror_mode": {
    "name": "ipython",
    "version": 3
   },
   "file_extension": ".py",
   "mimetype": "text/x-python",
   "name": "python",
   "nbconvert_exporter": "python",
   "pygments_lexer": "ipython3",
   "version": "3.11.4"
  },
  "orig_nbformat": 4
 },
 "nbformat": 4,
 "nbformat_minor": 2
}
